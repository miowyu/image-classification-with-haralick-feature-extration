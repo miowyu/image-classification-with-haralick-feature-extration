{
 "cells": [
  {
   "cell_type": "code",
   "execution_count": 2,
   "id": "a28e32b4",
   "metadata": {},
   "outputs": [],
   "source": [
    "from sklearn.svm import SVC\n",
    " \n",
    "import argparse\n",
    " \n",
    "import mahotas\n",
    " \n",
    "import glob\n",
    " \n",
    "import cv2\n",
    " \n",
    "import numpy as np\n",
    "import pandas as pd"
   ]
  },
  {
   "cell_type": "code",
   "execution_count": 7,
   "id": "f5454086",
   "metadata": {},
   "outputs": [],
   "source": [
    "def describe(image):\n",
    "\n",
    "    image = cv2.cvtColor(image, cv2.COLOR_BGR2GRAY)\n",
    " \n",
    "    hara = mahotas.features.haralick(image).mean(axis=0)\n",
    " \n",
    "    return hara\n",
    "def track_hara(text):\n",
    "    haralick_name = [\"id\",\n",
    "              \"Angular Second Moment\",\n",
    "              \"Contrast\",\n",
    "              \"Correlation\",\n",
    "              \"Variance\",\n",
    "              \"Inverse Difference Moment\",\n",
    "              \"Sum Average\",\n",
    "              \"Sum Variance\",\n",
    "              \"Sum Entropy\",\n",
    "              \"Entropy \",\n",
    "              \"Difference Variance\",\n",
    "              \"Difference Entropy\",\n",
    "              \"f12\",\n",
    "              \"f13\",\n",
    "              \"label\"]\n",
    "\n",
    "    table = pd.DataFrame(columns=haralick_name)\n",
    "    print(\"total img n:\",len(text))\n",
    "    for i in range(len(text)):\n",
    "        l = text[i][0].rfind(\"/\")+1\n",
    "        r = text[i][0].rfind(\".\")\n",
    "        name = text[i][0][l:r]\n",
    "        lable = int(text[i][1])\n",
    "        image = cv2.imread(\"./\"+text[i][0])\n",
    "        feature  = describe(image).tolist()\n",
    "        temp_list = [[name]+feature+[lable]]\n",
    "        temp_table = pd.DataFrame(temp_list,columns=haralick_name)\n",
    "        table = table.append(temp_table, ignore_index=True)\n",
    "        if (i % 2000)==0:\n",
    "            print(\"finish:\",i)\n",
    "    return(table)\n",
    "def top_n_acc(pred_table,truth,n):\n",
    "    acc = []\n",
    "    f_n = len(pred_table.iloc[0])\n",
    "    q = (1-(n/f_n))*100\n",
    "    for i in range(len(pred_table)):\n",
    "        target = pred_table.loc[i,pred_table.iloc[i,:]>np.percentile(pred_table.iloc[i,:],q)].index\n",
    "        if testy.iloc[i][\"label\"] in target:\n",
    "            acc.append(1)\n",
    "        else:\n",
    "            acc.append(0)\n",
    "    output = sum(acc)/len(acc)\n",
    "    return output"
   ]
  },
  {
   "cell_type": "code",
   "execution_count": 13,
   "id": "94f2e7cf",
   "metadata": {},
   "outputs": [
    {
     "name": "stdout",
     "output_type": "stream",
     "text": [
      "total img n: 63325\n",
      "finish: 0\n",
      "finish: 2000\n",
      "finish: 4000\n",
      "finish: 6000\n",
      "finish: 8000\n",
      "finish: 10000\n",
      "finish: 12000\n",
      "finish: 14000\n",
      "finish: 16000\n",
      "finish: 18000\n",
      "finish: 20000\n",
      "finish: 22000\n",
      "finish: 24000\n",
      "finish: 26000\n",
      "finish: 28000\n",
      "finish: 30000\n",
      "finish: 32000\n",
      "finish: 34000\n",
      "finish: 36000\n",
      "finish: 38000\n",
      "finish: 40000\n",
      "finish: 42000\n",
      "finish: 44000\n",
      "finish: 46000\n",
      "finish: 48000\n",
      "finish: 50000\n",
      "finish: 52000\n",
      "finish: 54000\n",
      "finish: 56000\n",
      "finish: 58000\n",
      "finish: 60000\n",
      "finish: 62000\n"
     ]
    }
   ],
   "source": [
    "trainpath = 'train.txt'\n",
    "\n",
    "f = open(trainpath,\"r\")\n",
    "text = []\n",
    "for line in f:\n",
    "    temp = line.split(' ')\n",
    "    temp[1] = temp[1][:-1]\n",
    "    text.append(temp)\n",
    "f.close\n",
    "\n",
    "table = track_hara(text)\n",
    "table.to_csv(\"train_haralick.csv\", index=False)"
   ]
  },
  {
   "cell_type": "code",
   "execution_count": 111,
   "id": "f19db029",
   "metadata": {},
   "outputs": [
    {
     "name": "stdout",
     "output_type": "stream",
     "text": [
      "total img n: 450\n",
      "finish: 0\n"
     ]
    }
   ],
   "source": [
    "testpath = 'test.txt'\n",
    "\n",
    "f = open(testpath,\"r\")\n",
    "text = []\n",
    "for line in f:\n",
    "    temp = line.split(' ')\n",
    "    temp[1] = temp[1][:-1]\n",
    "    text.append(temp)\n",
    "f.close\n",
    "\n",
    "table = track_hara(text)\n",
    "table.to_csv(\"test_haralick.csv\", index=False)"
   ]
  },
  {
   "cell_type": "code",
   "execution_count": 113,
   "id": "82859080",
   "metadata": {},
   "outputs": [
    {
     "name": "stdout",
     "output_type": "stream",
     "text": [
      "total img n: 450\n",
      "finish: 0\n"
     ]
    }
   ],
   "source": [
    "valpath = 'val.txt'\n",
    "\n",
    "f = open(valpath,\"r\")\n",
    "text = []\n",
    "for line in f:\n",
    "    temp = line.split(' ')\n",
    "    temp[1] = temp[1][:-1]\n",
    "    text.append(temp)\n",
    "f.close\n",
    "\n",
    "table = track_hara(text)\n",
    "table.to_csv(\"val_haralick.csv\", index=False)"
   ]
  },
  {
   "cell_type": "code",
   "execution_count": 3,
   "id": "a28d7430",
   "metadata": {},
   "outputs": [],
   "source": [
    "train_table = pd.read_csv(\"train_haralick.csv\")\n",
    "test_table = pd.read_csv(\"test_haralick.csv\")\n",
    "val_table = pd.read_csv(\"val_haralick.csv\")"
   ]
  },
  {
   "cell_type": "code",
   "execution_count": 4,
   "id": "9699811c",
   "metadata": {},
   "outputs": [],
   "source": [
    "trainX = train_table.iloc[:,1:14]\n",
    "trainy = train_table.iloc[:,14:]\n",
    "\n",
    "testX = test_table.iloc[:,1:14]\n",
    "testy = test_table.iloc[:,14:]\n",
    "\n",
    "valX = val_table.iloc[:,1:14]\n",
    "valy = val_table.iloc[:,14:]"
   ]
  },
  {
   "cell_type": "code",
   "execution_count": 23,
   "id": "51a70695",
   "metadata": {},
   "outputs": [],
   "source": [
    "from sklearn.ensemble import RandomForestClassifier"
   ]
  },
  {
   "cell_type": "code",
   "execution_count": 129,
   "id": "54ec0360",
   "metadata": {},
   "outputs": [
    {
     "name": "stderr",
     "output_type": "stream",
     "text": [
      "<ipython-input-129-c8d9c6a5e169>:2: DataConversionWarning: A column-vector y was passed when a 1d array was expected. Please change the shape of y to (n_samples,), for example using ravel().\n",
      "  clf.fit(trainX, trainy)\n"
     ]
    },
    {
     "name": "stdout",
     "output_type": "stream",
     "text": [
      "test_acc_1 0.09111111111111111\n",
      "test_acc_5 0.33555555555555555\n",
      "val_acc_1 0.08666666666666667\n",
      "val_acc_5 0.3088888888888889\n"
     ]
    }
   ],
   "source": [
    "clf = RandomForestClassifier(max_depth=10, random_state=0)\n",
    "clf.fit(trainX, trainy)\n",
    "\n",
    "test_prob = pd.DataFrame(clf.predict_proba(testX))\n",
    "val_prob = pd.DataFrame(clf.predict_proba(valX))\n",
    "\n",
    "test_acc_1 = top_n_acc(test_prob,testy,1)\n",
    "test_acc_5 = top_n_acc(test_prob,testy,5)\n",
    "val_acc_1 = top_n_acc(val_prob,testy,1)\n",
    "val_acc_5 = top_n_acc(val_prob,testy,5)\n",
    "print(\"test_acc_1\",test_acc_1)\n",
    "print(\"test_acc_5\",test_acc_5)\n",
    "print(\"val_acc_1\",val_acc_1)\n",
    "print(\"val_acc_5\",val_acc_5)"
   ]
  },
  {
   "cell_type": "code",
   "execution_count": 11,
   "id": "b7bc9d2c",
   "metadata": {},
   "outputs": [
    {
     "data": {
      "application/vnd.jupyter.widget-view+json": {
       "model_id": "6259745fdc4b40a88605537f80cdebf6",
       "version_major": 2,
       "version_minor": 0
      },
      "text/plain": [
       "MetricVisualizer(layout=Layout(align_self='stretch', height='500px'))"
      ]
     },
     "metadata": {},
     "output_type": "display_data"
    },
    {
     "data": {
      "text/plain": [
       "<catboost.core.CatBoostClassifier at 0x1bfc8339ee0>"
      ]
     },
     "execution_count": 11,
     "metadata": {},
     "output_type": "execute_result"
    }
   ],
   "source": [
    "from catboost import CatBoostClassifier\n",
    "cat_model = CatBoostClassifier(loss_function='MultiClass',\n",
    "                           eval_metric=\"AUC\",\n",
    "                           learning_rate=0.01,\n",
    "                           iterations=1000,\n",
    "                           random_seed=42,\n",
    "                           od_type=\"Iter\",\n",
    "                           depth=10,\n",
    "                           early_stopping_rounds=500\n",
    "                          )\n",
    "cat_model.fit(trainX,trainy, eval_set=(testX, testy), verbose=0, plot=True)"
   ]
  },
  {
   "cell_type": "code",
   "execution_count": 12,
   "id": "763ff22a",
   "metadata": {},
   "outputs": [
    {
     "name": "stdout",
     "output_type": "stream",
     "text": [
      "cat_test_acc_1 0.10222222222222223\n",
      "cat_test_acc_5 0.3488888888888889\n",
      "cat_val_acc_1 0.08222222222222222\n",
      "cat_val_acc_5 0.32\n"
     ]
    }
   ],
   "source": [
    "cat_test_prob = pd.DataFrame(cat_model.predict_proba(testX))\n",
    "cat_val_prob = pd.DataFrame(cat_model.predict_proba(valX))\n",
    "cat_test_acc_1 = top_n_acc(cat_test_prob,testy,1)\n",
    "cat_test_acc_5 = top_n_acc(cat_test_prob,testy,5)\n",
    "cat_val_acc_1 = top_n_acc(cat_val_prob,testy,1)\n",
    "cat_val_acc_5 = top_n_acc(cat_val_prob,testy,5)\n",
    "print(\"cat_test_acc_1\",cat_test_acc_1)\n",
    "print(\"cat_test_acc_5\",cat_test_acc_5)\n",
    "print(\"cat_val_acc_1\",cat_val_acc_1)\n",
    "print(\"cat_val_acc_5\",cat_val_acc_5)"
   ]
  },
  {
   "cell_type": "code",
   "execution_count": 141,
   "id": "76362cd0",
   "metadata": {},
   "outputs": [],
   "source": [
    "from sklearn.svm import SVC\n",
    "model = SVC(probability=True)\n"
   ]
  },
  {
   "cell_type": "code",
   "execution_count": 154,
   "id": "7ae0ec7f",
   "metadata": {
    "scrolled": true
   },
   "outputs": [
    {
     "name": "stderr",
     "output_type": "stream",
     "text": [
      "C:\\Users\\88697\\anaconda3\\lib\\site-packages\\sklearn\\utils\\validation.py:63: DataConversionWarning: A column-vector y was passed when a 1d array was expected. Please change the shape of y to (n_samples, ), for example using ravel().\n",
      "  return f(*args, **kwargs)\n"
     ]
    },
    {
     "data": {
      "text/plain": [
       "SVC(probability=True)"
      ]
     },
     "execution_count": 154,
     "metadata": {},
     "output_type": "execute_result"
    }
   ],
   "source": [
    "model.fit(trainX,trainy)"
   ]
  },
  {
   "cell_type": "code",
   "execution_count": 155,
   "id": "948ef383",
   "metadata": {},
   "outputs": [
    {
     "name": "stdout",
     "output_type": "stream",
     "text": [
      "SVC_test_acc_1 0.05555555555555555\n",
      "SVC_test_acc_5 0.20666666666666667\n",
      "SVC_val_acc_1 0.04666666666666667\n",
      "SVC_val_acc_5 0.18222222222222223\n"
     ]
    }
   ],
   "source": [
    "SVC_test_prob = pd.DataFrame(model.predict_proba(testX))\n",
    "SVC_val_prob = pd.DataFrame(model.predict_proba(valX))\n",
    "SVC_test_acc_1 = top_n_acc(SVC_test_prob,testy,1)\n",
    "SVC_test_acc_5 = top_n_acc(SVC_test_prob,testy,5)\n",
    "SVC_val_acc_1 = top_n_acc(SVC_val_prob,testy,1)\n",
    "SVC_val_acc_5 = top_n_acc(SVC_val_prob,testy,5)\n",
    "print(\"SVC_test_acc_1\",SVC_test_acc_1)\n",
    "print(\"SVC_test_acc_5\",SVC_test_acc_5)\n",
    "print(\"SVC_val_acc_1\",SVC_val_acc_1)\n",
    "print(\"SVC_val_acc_5\",SVC_val_acc_5)"
   ]
  }
 ],
 "metadata": {
  "kernelspec": {
   "display_name": "Python 3",
   "language": "python",
   "name": "python3"
  },
  "language_info": {
   "codemirror_mode": {
    "name": "ipython",
    "version": 3
   },
   "file_extension": ".py",
   "mimetype": "text/x-python",
   "name": "python",
   "nbconvert_exporter": "python",
   "pygments_lexer": "ipython3",
   "version": "3.8.8"
  }
 },
 "nbformat": 4,
 "nbformat_minor": 5
}
